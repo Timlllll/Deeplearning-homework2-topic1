{
 "cells": [
  {
   "cell_type": "code",
   "execution_count": 1,
   "id": "2a35e5c4",
   "metadata": {},
   "outputs": [],
   "source": [
    "import cv2\n",
    "import numpy as np\n",
    "def mixup(png1,png2,mixup_png):\n",
    "    img1 = cv2.imread(png1)\n",
    "    img1 = cv2.resize(img1, (224, 224))\n",
    "\n",
    "    img2 = cv2.imread(png2)\n",
    "    img2 = cv2.resize(img2, (224, 224))\n",
    "\n",
    "    alpha = 1.0\n",
    "    lam = np.random.beta(alpha, alpha)\n",
    "    mixed_img = lam * img1 + (1 - lam) * img2\n",
    "\n",
    "    cv2.imwrite(mixup_png, mixed_img)\n"
   ]
  },
  {
   "cell_type": "code",
   "execution_count": 3,
   "id": "bfcd992d",
   "metadata": {},
   "outputs": [],
   "source": [
    "img_1 = '/Users/lizijian/Desktop/数据增强可视化/19_71+sea_s_000678的副本.png'\n",
    "img_2 = '/Users/lizijian/Desktop/数据增强可视化/30_8+bike_s_000127的副本.png'\n",
    "img_3 = '/Users/lizijian/Desktop/数据增强可视化/37_11+male_child_s_000800的副本.png'\n",
    "mixup_img_1 = '/Users/lizijian/Desktop/数据增强可视化/mixup_1.png'\n",
    "mixup_img_2 = '/Users/lizijian/Desktop/数据增强可视化/mixup_2.png'\n",
    "mixup_img_3 = '/Users/lizijian/Desktop/数据增强可视化/mixup_3.png'"
   ]
  },
  {
   "cell_type": "code",
   "execution_count": 4,
   "id": "d7a72781",
   "metadata": {},
   "outputs": [],
   "source": [
    "mixup(img_1,img_2,mixup_img_1)\n",
    "mixup(img_1,img_3,mixup_img_2)\n",
    "mixup(img_2,img_3,mixup_img_3)"
   ]
  }
 ],
 "metadata": {
  "kernelspec": {
   "display_name": "d2l",
   "language": "python",
   "name": "d2l"
  },
  "language_info": {
   "codemirror_mode": {
    "name": "ipython",
    "version": 3
   },
   "file_extension": ".py",
   "mimetype": "text/x-python",
   "name": "python",
   "nbconvert_exporter": "python",
   "pygments_lexer": "ipython3",
   "version": "3.9.16"
  }
 },
 "nbformat": 4,
 "nbformat_minor": 5
}
