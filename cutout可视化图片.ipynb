{
 "cells": [
  {
   "cell_type": "code",
   "execution_count": 1,
   "id": "7a0ceab3",
   "metadata": {},
   "outputs": [],
   "source": [
    "import torch\n",
    "import numpy as np\n",
    "from torchvision import transforms\n",
    "import cv2\n",
    " \n",
    "class Cutout(object):\n",
    "    \"\"\"Randomly mask out one or more patches from an image.\n",
    "    Args:\n",
    "        n_holes (int): Number of patches to cut out of each image.\n",
    "        length (int): The length (in pixels) of each square patch.\n",
    "    \"\"\"\n",
    "    def __init__(self, n_holes=1, length=16):\n",
    "        self.n_holes = n_holes\n",
    "        self.length = length\n",
    " \n",
    "    def __call__(self, img):\n",
    "        \"\"\"\n",
    "        Args:\n",
    "            img (Tensor): Tensor image of size (C, H, W).\n",
    "        Returns:\n",
    "            Tensor: Image with n_holes of dimension length x length cut out of it.\n",
    "        \"\"\"\n",
    "        h = img.size(1)\n",
    "        w = img.size(2)\n",
    " \n",
    "        mask = np.ones((h, w), np.float32)\n",
    " \n",
    "        for n in range(self.n_holes):\n",
    "            y = np.random.randint(h)\n",
    "            x = np.random.randint(w)\n",
    " \n",
    "            y1 = np.clip(y - self.length // 2, 0, h)\n",
    "            y2 = np.clip(y + self.length // 2, 0, h)\n",
    "            x1 = np.clip(x - self.length // 2, 0, w)\n",
    "            x2 = np.clip(x + self.length // 2, 0, w)\n",
    " \n",
    "            mask[y1: y2, x1: x2] = 0.\n",
    " \n",
    "        mask = torch.from_numpy(mask)\n",
    "        mask = mask.expand_as(img)\n",
    "        img = img * mask\n",
    " \n",
    "        return img"
   ]
  },
  {
   "cell_type": "code",
   "execution_count": 2,
   "id": "cdca68c2",
   "metadata": {},
   "outputs": [],
   "source": [
    "img_1 = '/Users/lizijian/Desktop/数据增强可视化/19_71+sea_s_000678的副本.png'\n",
    "img_2 = '/Users/lizijian/Desktop/数据增强可视化/30_8+bike_s_000127的副本.png'\n",
    "img_3 = '/Users/lizijian/Desktop/数据增强可视化/37_11+male_child_s_000800的副本.png'\n",
    "cutout_img_1 = '/Users/lizijian/Desktop/数据增强可视化/cutout_1.png'\n",
    "cutout_img_2 = '/Users/lizijian/Desktop/数据增强可视化/cutout_2.png'\n",
    "cutout_img_3 = '/Users/lizijian/Desktop/数据增强可视化/cutout_3.png'"
   ]
  },
  {
   "cell_type": "code",
   "execution_count": 3,
   "id": "e8d69347",
   "metadata": {},
   "outputs": [],
   "source": [
    "# 执行cutout\n",
    "def cutout(png,cutout_png):\n",
    "    img = cv2.imread(png)\n",
    "    img = transforms.ToTensor()(img)\n",
    "    cut = Cutout(length=8)\n",
    "    img = cut(img)\n",
    "\n",
    "    # cutout图像写入本地\n",
    "    img = img.mul(255).byte()\n",
    "    img = img.numpy().transpose((1, 2, 0))\n",
    "    cv2.imwrite(cutout_png, img)"
   ]
  },
  {
   "cell_type": "code",
   "execution_count": 4,
   "id": "eca9f371",
   "metadata": {},
   "outputs": [],
   "source": [
    "cutout(img_1,cutout_img_1)\n",
    "cutout(img_2,cutout_img_2)\n",
    "cutout(img_3,cutout_img_3)"
   ]
  },
  {
   "cell_type": "code",
   "execution_count": null,
   "id": "8d2ac160",
   "metadata": {},
   "outputs": [],
   "source": []
  }
 ],
 "metadata": {
  "kernelspec": {
   "display_name": "d2l",
   "language": "python",
   "name": "d2l"
  },
  "language_info": {
   "codemirror_mode": {
    "name": "ipython",
    "version": 3
   },
   "file_extension": ".py",
   "mimetype": "text/x-python",
   "name": "python",
   "nbconvert_exporter": "python",
   "pygments_lexer": "ipython3",
   "version": "3.9.16"
  }
 },
 "nbformat": 4,
 "nbformat_minor": 5
}
