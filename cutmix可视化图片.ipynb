{
 "cells": [
  {
   "cell_type": "code",
   "execution_count": 1,
   "id": "7145f6d1",
   "metadata": {},
   "outputs": [],
   "source": [
    "import cv2\n",
    "import numpy as np\n",
    "import random\n",
    "\n",
    "def cutmix(image1_path, image2_path, output_path, alpha=0.5):\n",
    "    # 加载图像\n",
    "    image1 = cv2.imread(image1_path)\n",
    "    image2 = cv2.imread(image2_path)\n",
    "    image2 = cv2.resize(image2, (8,8))\n",
    "\n",
    "    # 随机选择一个位置进行CutMix\n",
    "    height, width, _ = image1.shape\n",
    "    cut_x = random.randint(width/2, width)\n",
    "    cut_y = random.randint(height/2, height)\n",
    "    \n",
    "\n",
    "    \n",
    "    image1[cut_y-8:cut_y, cut_x-8:cut_x, :] = image2\n",
    "    # 保存混合后的图像\n",
    "    cv2.imwrite(output_path, image1)"
   ]
  },
  {
   "cell_type": "code",
   "execution_count": 2,
   "id": "a96c0733",
   "metadata": {},
   "outputs": [],
   "source": [
    "img_1 = '/Users/lizijian/Desktop/数据增强可视化/19_71+sea_s_000678的副本.png'\n",
    "img_2 = '/Users/lizijian/Desktop/数据增强可视化/30_8+bike_s_000127的副本.png'\n",
    "img_3 = '/Users/lizijian/Desktop/数据增强可视化/37_11+male_child_s_000800的副本.png'\n",
    "cutmix_img_1 = '/Users/lizijian/Desktop/数据增强可视化/cutmix_1.png'\n",
    "cutmix_img_2 = '/Users/lizijian/Desktop/数据增强可视化/cutmix_2.png'\n",
    "cutmix_img_3 = '/Users/lizijian/Desktop/数据增强可视化/cutmix_3.png'\n",
    "alpha = 0.5"
   ]
  },
  {
   "cell_type": "code",
   "execution_count": 4,
   "id": "69918a00",
   "metadata": {},
   "outputs": [],
   "source": [
    "cutmix(img_1, img_2, cutmix_img_1, alpha)\n",
    "cutmix(img_2, img_3, cutmix_img_2, alpha)\n",
    "cutmix(img_3, img_1, cutmix_img_3, alpha)"
   ]
  },
  {
   "cell_type": "code",
   "execution_count": null,
   "id": "31990dba",
   "metadata": {},
   "outputs": [],
   "source": []
  }
 ],
 "metadata": {
  "kernelspec": {
   "display_name": "d2l",
   "language": "python",
   "name": "d2l"
  },
  "language_info": {
   "codemirror_mode": {
    "name": "ipython",
    "version": 3
   },
   "file_extension": ".py",
   "mimetype": "text/x-python",
   "name": "python",
   "nbconvert_exporter": "python",
   "pygments_lexer": "ipython3",
   "version": "3.9.16"
  }
 },
 "nbformat": 4,
 "nbformat_minor": 5
}
